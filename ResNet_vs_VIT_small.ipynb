{
  "nbformat": 4,
  "nbformat_minor": 0,
  "metadata": {
    "colab": {
      "provenance": [],
      "authorship_tag": "ABX9TyMVjj9WDccNmrCc1/lHFDwa",
      "include_colab_link": true
    },
    "kernelspec": {
      "name": "python3",
      "display_name": "Python 3"
    },
    "language_info": {
      "name": "python"
    },
    "accelerator": "GPU",
    "gpuClass": "standard"
  },
  "cells": [
    {
      "cell_type": "markdown",
      "metadata": {
        "id": "view-in-github",
        "colab_type": "text"
      },
      "source": [
        "<a href=\"https://colab.research.google.com/github/computablee/ACM-Hackathon-Drowziness-Detector/blob/main/ResNet_vs_VIT_small.ipynb\" target=\"_parent\"><img src=\"https://colab.research.google.com/assets/colab-badge.svg\" alt=\"Open In Colab\"/></a>"
      ]
    },
    {
      "cell_type": "code",
      "execution_count": 5,
      "metadata": {
        "colab": {
          "base_uri": "https://localhost:8080/"
        },
        "id": "tI5lrGoJ-Tbv",
        "outputId": "64465510-86c3-44ff-a010-751c849ab097"
      },
      "outputs": [
        {
          "output_type": "stream",
          "name": "stdout",
          "text": [
            "Looking in indexes: https://pypi.org/simple, https://us-python.pkg.dev/colab-wheels/public/simple/\n",
            "Collecting tensorflow_addons\n",
            "  Downloading tensorflow_addons-0.19.0-cp39-cp39-manylinux_2_17_x86_64.manylinux2014_x86_64.whl (1.1 MB)\n",
            "\u001b[2K     \u001b[90m━━━━━━━━━━━━━━━━━━━━━━━━━━━━━━━━━━━━━━━━\u001b[0m \u001b[32m1.1/1.1 MB\u001b[0m \u001b[31m16.6 MB/s\u001b[0m eta \u001b[36m0:00:00\u001b[0m\n",
            "\u001b[?25hRequirement already satisfied: packaging in /usr/local/lib/python3.9/dist-packages (from tensorflow_addons) (23.0)\n",
            "Collecting typeguard>=2.7\n",
            "  Downloading typeguard-3.0.1-py3-none-any.whl (30 kB)\n",
            "Requirement already satisfied: typing-extensions>=4.4.0 in /usr/local/lib/python3.9/dist-packages (from typeguard>=2.7->tensorflow_addons) (4.5.0)\n",
            "Requirement already satisfied: importlib-metadata>=3.6 in /usr/local/lib/python3.9/dist-packages (from typeguard>=2.7->tensorflow_addons) (6.0.0)\n",
            "Requirement already satisfied: zipp>=0.5 in /usr/local/lib/python3.9/dist-packages (from importlib-metadata>=3.6->typeguard>=2.7->tensorflow_addons) (3.15.0)\n",
            "Installing collected packages: typeguard, tensorflow_addons\n",
            "Successfully installed tensorflow_addons-0.19.0 typeguard-3.0.1\n"
          ]
        }
      ],
      "source": [
        "!pip install tensorflow_addons\n",
        "\n",
        "import numpy as np\n",
        "import numpy.random as R\n",
        "import matplotlib.pyplot as plt\n",
        "import tensorflow as tf\n",
        "from tensorflow.keras.datasets import mnist\n",
        "from tensorflow.keras.utils import to_categorical\n",
        "from keras.utils.data_utils import get_file\n",
        "from tensorflow.keras import models, layers\n",
        "import tensorflow.keras as keras\n",
        "import tensorflow_addons as tfa\n",
        "\n",
        "(_, _), (test_images, test_labels) = mnist.load_data()"
      ]
    },
    {
      "cell_type": "code",
      "execution_count": 8,
      "metadata": {
        "id": "k36kKiokcA_R"
      },
      "outputs": [],
      "source": [
        "test_images = test_images.astype('float32') / 255\n",
        "nclassout = 10\n",
        "test_labels_onehot = to_categorical(test_labels)"
      ]
    },
    {
      "cell_type": "code",
      "source": [
        "class Patches(layers.Layer):\n",
        "    def __init__(self, patch_size, **kwargs):\n",
        "        super(Patches, self).__init__(**kwargs)\n",
        "        self.patch_size = patch_size\n",
        "\n",
        "    def call(self, images):\n",
        "        batch_size = tf.shape(images)[0]\n",
        "        patches = tf.image.extract_patches(\n",
        "            images=images,\n",
        "            sizes=[1, self.patch_size, self.patch_size, 1],\n",
        "            strides=[1, self.patch_size, self.patch_size, 1],\n",
        "            rates=[1, 1, 1, 1],\n",
        "            padding=\"VALID\",\n",
        "        )\n",
        "        patch_dims = patches.shape[-1]\n",
        "        patches = tf.reshape(patches, [batch_size, -1, patch_dims])\n",
        "        return patches\n",
        "\n",
        "    def get_config(self):\n",
        "        config = super(Patches, self).get_config()\n",
        "        config.update({\"patch_size\": self.patch_size})\n",
        "        return config\n",
        "\n",
        "class PatchEncoder(layers.Layer):\n",
        "    def __init__(self, num_patches, projection_dim, **kwargs):\n",
        "        super(PatchEncoder, self).__init__(**kwargs)\n",
        "        self.num_patches = num_patches\n",
        "        self.projection_dim = projection_dim\n",
        "        self.projection = layers.Dense(units=projection_dim)\n",
        "        self.position_embedding = layers.Embedding(\n",
        "            input_dim=num_patches, output_dim=projection_dim\n",
        "        )\n",
        "\n",
        "    def call(self, patch):\n",
        "        positions = tf.range(start=0, limit=self.num_patches, delta=1)\n",
        "        encoded = self.projection(patch) + self.position_embedding(positions)\n",
        "        return encoded\n",
        "\n",
        "    def get_config(self):\n",
        "        config = super(PatchEncoder, self).get_config()\n",
        "        config.update({\"projection_dim\": self.projection_dim, \"num_patches\": self.num_patches})\n",
        "        return config"
      ],
      "metadata": {
        "id": "03NmcPQIybwC"
      },
      "execution_count": 3,
      "outputs": []
    },
    {
      "cell_type": "code",
      "source": [
        "resnet = models.load_model('./small-resnet-mnist.hdf5')\n",
        "\n",
        "evaluation_res = resnet.evaluate(test_images, test_labels_onehot)\n",
        "\n",
        "print(\"Residual Network Accuracy: \", str(evaluation_res[1]))"
      ],
      "metadata": {
        "colab": {
          "base_uri": "https://localhost:8080/"
        },
        "id": "o0u4oDM9_WZO",
        "outputId": "644a23bb-c6cf-4e6e-eb4e-53124539003b"
      },
      "execution_count": 10,
      "outputs": [
        {
          "output_type": "stream",
          "name": "stdout",
          "text": [
            "313/313 [==============================] - 4s 8ms/step - loss: 0.0324 - accuracy: 0.9903\n",
            "Residual Network Accuracy:  0.9902999997138977\n"
          ]
        }
      ]
    },
    {
      "cell_type": "code",
      "source": [
        "vit = models.load_model('./small-vit-mnist.hdf5', custom_objects={'Patches': Patches, 'PatchEncoder': PatchEncoder})\n",
        "\n",
        "evaluation_vit = vit.evaluate(test_images, test_labels)\n",
        "\n",
        "print(\"ViT Network Accuracy: \", str(evaluation_vit[1]))"
      ],
      "metadata": {
        "colab": {
          "base_uri": "https://localhost:8080/"
        },
        "id": "LQdia_NHTcUa",
        "outputId": "06dc6b2f-bddb-4cfd-ed79-8c7fa84be83e"
      },
      "execution_count": 9,
      "outputs": [
        {
          "output_type": "stream",
          "name": "stdout",
          "text": [
            "313/313 [==============================] - 5s 12ms/step - loss: 0.0516 - accuracy: 0.9836\n",
            "ViT Network Accuracy:  0.9836000204086304\n"
          ]
        }
      ]
    },
    {
      "cell_type": "code",
      "source": [
        "plt.imshow(test_images[0], cmap='gray', interpolation='none')"
      ],
      "metadata": {
        "colab": {
          "base_uri": "https://localhost:8080/",
          "height": 282
        },
        "id": "IwnLUnIU2uXy",
        "outputId": "1fccb5d8-22cf-489d-a42a-f4a0ab876a55"
      },
      "execution_count": 11,
      "outputs": [
        {
          "output_type": "execute_result",
          "data": {
            "text/plain": [
              "<matplotlib.image.AxesImage at 0x7f67d6a062b0>"
            ]
          },
          "metadata": {},
          "execution_count": 11
        },
        {
          "output_type": "display_data",
          "data": {
            "text/plain": [
              "<Figure size 432x288 with 1 Axes>"
            ],
            "image/png": "[encoded data removed]"
          },
          "metadata": {
            "needs_background": "light"
          }
        }
      ]
    },
    {
      "cell_type": "code",
      "source": [
        "(_, _), (test_images, test_labels) = mnist.load_data()\n",
        "test_images = test_images.astype('float32') / 255\n",
        "\n",
        "R.seed(985)\n",
        "\n",
        "noise = np.zeros(shape=(28, 28))\n",
        "\n",
        "for x in range(28):\n",
        "  for y in range(28):\n",
        "    noise[x,y] += R.normal(0, 0.1)\n",
        "\n",
        "for i in range(len(test_images)):\n",
        "  test_images[i] += noise\n",
        "  if i % 1000 == 0:\n",
        "    print(str(i / len(test_images)))\n",
        "\n",
        "plt.imshow(test_images[0], cmap='gray', interpolation='none')"
      ],
      "metadata": {
        "colab": {
          "base_uri": "https://localhost:8080/",
          "height": 456
        },
        "id": "YxsCvwrC3iTu",
        "outputId": "3e7a5ca5-99be-4698-dad6-db9511723f21"
      },
      "execution_count": 13,
      "outputs": [
        {
          "output_type": "stream",
          "name": "stdout",
          "text": [
            "0.0\n",
            "0.1\n",
            "0.2\n",
            "0.3\n",
            "0.4\n",
            "0.5\n",
            "0.6\n",
            "0.7\n",
            "0.8\n",
            "0.9\n"
          ]
        },
        {
          "output_type": "execute_result",
          "data": {
            "text/plain": [
              "<matplotlib.image.AxesImage at 0x7f67d6920430>"
            ]
          },
          "metadata": {},
          "execution_count": 13
        },
        {
          "output_type": "display_data",
          "data": {
            "text/plain": [
              "<Figure size 432x288 with 1 Axes>"
            ],
            "image/png": "[encoded data removed]"
          },
          "metadata": {
            "needs_background": "light"
          }
        }
      ]
    },
    {
      "cell_type": "code",
      "source": [
        "evaluation_conv = resnet.evaluate(test_images, test_labels_onehot)\n",
        "\n",
        "print(\"Residual Network Accuracy, noise=0.1: \", str(evaluation_conv[1]))"
      ],
      "metadata": {
        "colab": {
          "base_uri": "https://localhost:8080/"
        },
        "id": "7eMoE1qd645F",
        "outputId": "25d9679c-ff7d-4db1-8d34-dd7495431a7f"
      },
      "execution_count": 14,
      "outputs": [
        {
          "output_type": "stream",
          "name": "stdout",
          "text": [
            "313/313 [==============================] - 4s 14ms/step - loss: 0.2115 - accuracy: 0.9062\n",
            "Residual Network Accuracy, noise=0.1:  0.9061999917030334\n"
          ]
        }
      ]
    },
    {
      "cell_type": "code",
      "source": [
        "evaluation_vit = vit.evaluate(test_images, test_labels)\n",
        "\n",
        "print(\"Vision Transformer Accuracy, noise=0.1: \", str(evaluation_vit[1]))"
      ],
      "metadata": {
        "colab": {
          "base_uri": "https://localhost:8080/"
        },
        "id": "yPNocgJE7NnZ",
        "outputId": "aacda4fc-9ffb-47c7-f33f-cdc300236784"
      },
      "execution_count": 15,
      "outputs": [
        {
          "output_type": "stream",
          "name": "stdout",
          "text": [
            "313/313 [==============================] - 5s 17ms/step - loss: 0.0712 - accuracy: 0.9810\n",
            "Vision Transformer Accuracy, noise=0.1:  0.9810000061988831\n"
          ]
        }
      ]
    },
    {
      "cell_type": "code",
      "source": [
        "(_, _), (test_images, test_labels) = mnist.load_data()\n",
        "test_images = test_images.astype('float32') / 255\n",
        "\n",
        "R.seed(985)\n",
        "\n",
        "noise = np.zeros(shape=(28, 28))\n",
        "\n",
        "for x in range(28):\n",
        "  for y in range(28):\n",
        "    noise[x,y] += R.normal(0, 0.25)\n",
        "\n",
        "for i in range(len(test_images)):\n",
        "  test_images[i] += noise\n",
        "  if i % 1000 == 0:\n",
        "    print(str(i / len(test_images)))\n",
        "\n",
        "plt.imshow(test_images[0], cmap='gray', interpolation='none')"
      ],
      "metadata": {
        "colab": {
          "base_uri": "https://localhost:8080/",
          "height": 456
        },
        "id": "5yif99waBLXM",
        "outputId": "e633da42-40b4-45e5-baa6-b2306524890a"
      },
      "execution_count": 16,
      "outputs": [
        {
          "output_type": "stream",
          "name": "stdout",
          "text": [
            "0.0\n",
            "0.1\n",
            "0.2\n",
            "0.3\n",
            "0.4\n",
            "0.5\n",
            "0.6\n",
            "0.7\n",
            "0.8\n",
            "0.9\n"
          ]
        },
        {
          "output_type": "execute_result",
          "data": {
            "text/plain": [
              "<matplotlib.image.AxesImage at 0x7f67d6a67d90>"
            ]
          },
          "metadata": {},
          "execution_count": 16
        },
        {
          "output_type": "display_data",
          "data": {
            "text/plain": [
              "<Figure size 432x288 with 1 Axes>"
            ],
            "image/png": "[encoded data removed]"
          },
          "metadata": {
            "needs_background": "light"
          }
        }
      ]
    },
    {
      "cell_type": "code",
      "source": [
        "evaluation_conv = resnet.evaluate(test_images, test_labels_onehot)\n",
        "\n",
        "print(\"Residual Network Accuracy, noise=0.25: \", str(evaluation_conv[1]))"
      ],
      "metadata": {
        "colab": {
          "base_uri": "https://localhost:8080/"
        },
        "id": "pRL2IaC9BT_b",
        "outputId": "52213e3e-f12c-4aa0-e238-d701bf1c1ed3"
      },
      "execution_count": 17,
      "outputs": [
        {
          "output_type": "stream",
          "name": "stdout",
          "text": [
            "313/313 [==============================] - 2s 7ms/step - loss: 0.8063 - accuracy: 0.7547\n",
            "Residual Network Accuracy, noise=0.25:  0.7547000050544739\n"
          ]
        }
      ]
    },
    {
      "cell_type": "code",
      "source": [
        "evaluation_vit = vit.evaluate(test_images, test_labels)\n",
        "\n",
        "print(\"Vision Transformer Accuracy, noise=0.25: \", str(evaluation_vit[1]))"
      ],
      "metadata": {
        "colab": {
          "base_uri": "https://localhost:8080/"
        },
        "id": "rN0xCgMtBWER",
        "outputId": "ec21a816-60da-4a17-a4a9-4d069a1fe769"
      },
      "execution_count": 18,
      "outputs": [
        {
          "output_type": "stream",
          "name": "stdout",
          "text": [
            "313/313 [==============================] - 4s 14ms/step - loss: 0.1870 - accuracy: 0.9381\n",
            "Vision Transformer Accuracy, noise=0.25:  0.9380999803543091\n"
          ]
        }
      ]
    },
    {
      "cell_type": "code",
      "source": [
        "(_, _), (test_images, test_labels) = mnist.load_data()\n",
        "test_images = test_images.astype('float32') / 255\n",
        "\n",
        "R.seed(985)\n",
        "\n",
        "noise = np.zeros(shape=(28, 28))\n",
        "\n",
        "for x in range(28):\n",
        "  for y in range(28):\n",
        "    noise[x,y] += R.normal(0, 0.4)\n",
        "\n",
        "for i in range(len(test_images)):\n",
        "  test_images[i] += noise\n",
        "  if i % 1000 == 0:\n",
        "    print(str(i / len(test_images)))\n",
        "\n",
        "plt.imshow(test_images[0], cmap='gray', interpolation='none')"
      ],
      "metadata": {
        "colab": {
          "base_uri": "https://localhost:8080/",
          "height": 456
        },
        "id": "Rx5IkZnWCfdj",
        "outputId": "e75b7f68-8e4f-45cf-8c8a-99cac7dbbdc3"
      },
      "execution_count": 19,
      "outputs": [
        {
          "output_type": "stream",
          "name": "stdout",
          "text": [
            "0.0\n",
            "0.1\n",
            "0.2\n",
            "0.3\n",
            "0.4\n",
            "0.5\n",
            "0.6\n",
            "0.7\n",
            "0.8\n",
            "0.9\n"
          ]
        },
        {
          "output_type": "execute_result",
          "data": {
            "text/plain": [
              "<matplotlib.image.AxesImage at 0x7f67d6852610>"
            ]
          },
          "metadata": {},
          "execution_count": 19
        },
        {
          "output_type": "display_data",
          "data": {
            "text/plain": [
              "<Figure size 432x288 with 1 Axes>"
            ],
            "image/png": "[encoded data removed]"
          },
          "metadata": {
            "needs_background": "light"
          }
        }
      ]
    },
    {
      "cell_type": "code",
      "source": [
        "evaluation_conv = resnet.evaluate(test_images, test_labels_onehot)\n",
        "\n",
        "print(\"Residual Network Accuracy, noise=0.4: \", str(evaluation_conv[1]))"
      ],
      "metadata": {
        "colab": {
          "base_uri": "https://localhost:8080/"
        },
        "id": "R2uT-sc2CiRR",
        "outputId": "8507589b-59a7-4ed8-bb16-205b3f5f8d36"
      },
      "execution_count": 20,
      "outputs": [
        {
          "output_type": "stream",
          "name": "stdout",
          "text": [
            "313/313 [==============================] - 2s 7ms/step - loss: 2.3205 - accuracy: 0.5118\n",
            "Residual Network Accuracy, noise=0.4:  0.5117999911308289\n"
          ]
        }
      ]
    },
    {
      "cell_type": "code",
      "source": [
        "evaluation_vit = vit.evaluate(test_images, test_labels)\n",
        "\n",
        "print(\"Vision Transformer Accuracy, noise=0.4: \", str(evaluation_vit[1]))"
      ],
      "metadata": {
        "colab": {
          "base_uri": "https://localhost:8080/"
        },
        "id": "sF5sMPYGCjAx",
        "outputId": "1f5f0b5c-ce12-4fe0-bad5-9c0965739829"
      },
      "execution_count": 21,
      "outputs": [
        {
          "output_type": "stream",
          "name": "stdout",
          "text": [
            "313/313 [==============================] - 4s 12ms/step - loss: 0.4675 - accuracy: 0.8696\n",
            "Vision Transformer Accuracy, noise=0.4:  0.8695999979972839\n"
          ]
        }
      ]
    }
  ]
}